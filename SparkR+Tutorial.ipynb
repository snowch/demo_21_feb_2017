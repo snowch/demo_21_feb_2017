{
 "cells": [
  {
   "cell_type": "markdown",
   "metadata": {},
   "source": [
    "## Introduction\n",
    "\n",
    "This notebook is a sparkR tutorial.\n",
    "\n",
    "The examples in this notebook are taken from: http://spark.apache.org/docs/2.0.0/sparkr.html\n",
    "\n",
    "Ensure you refer to the sparkR API for the function defintions."
   ]
  },
  {
   "cell_type": "markdown",
   "metadata": {
    "collapsed": true
   },
   "source": [
    "## Creating SparkDataFrames\n",
    "With a SparkSession, applications can create SparkDataFrames from a local R data frame, from a Hive table, or from other data sources.\n",
    "\n",
    "### From local data frames\n",
    "The simplest way to create a data frame is to convert a local R data frame into a SparkDataFrame. Specifically we can use as.DataFrame or createDataFrame and pass in the local R data frame to create a SparkDataFrame. As an example, the following creates a SparkDataFrame based using the faithful dataset from R."
   ]
  },
  {
   "cell_type": "code",
   "execution_count": null,
   "metadata": {
    "collapsed": false
   },
   "outputs": [],
   "source": [
    "df <- as.DataFrame(faithful)\n",
    "\n",
    "# Displays the first part of the SparkDataFrame\n",
    "head(df)"
   ]
  },
  {
   "cell_type": "markdown",
   "metadata": {},
   "source": [
    "### SparkDataFrame Operations\n",
    "SparkDataFrames support a number of functions to do structured data processing. Here we include some basic examples and a complete list can be found in the API docs:\n",
    "\n",
    "#### Selecting rows, columns"
   ]
  },
  {
   "cell_type": "code",
   "execution_count": null,
   "metadata": {
    "collapsed": false
   },
   "outputs": [],
   "source": [
    "# Select only the \"eruptions\" column\n",
    "head(select(df, df$eruptions))"
   ]
  },
  {
   "cell_type": "code",
   "execution_count": null,
   "metadata": {
    "collapsed": false
   },
   "outputs": [],
   "source": [
    "# You can also pass in column name as strings\n",
    "head(select(df, \"eruptions\"))"
   ]
  },
  {
   "cell_type": "code",
   "execution_count": null,
   "metadata": {
    "collapsed": false
   },
   "outputs": [],
   "source": [
    "# Filter the SparkDataFrame to only retain rows with wait times shorter than 50 mins\n",
    "head(filter(df, df$waiting < 50))"
   ]
  },
  {
   "cell_type": "markdown",
   "metadata": {},
   "source": [
    "#### Grouping, Aggregation\n",
    "SparkR data frames support a number of commonly used functions to aggregate data after grouping. For example we can compute a histogram of the waiting time in the faithful dataset as shown below"
   ]
  },
  {
   "cell_type": "code",
   "execution_count": null,
   "metadata": {
    "collapsed": false
   },
   "outputs": [],
   "source": [
    "# We use the `n` operator to count the number of times each waiting time appears\n",
    "head(summarize(groupBy(df, df$waiting), count = n(df$waiting)))"
   ]
  },
  {
   "cell_type": "code",
   "execution_count": null,
   "metadata": {
    "collapsed": false
   },
   "outputs": [],
   "source": [
    "# We can also sort the output from the aggregation to get the most common waiting times\n",
    "waiting_counts <- summarize(groupBy(df, df$waiting), count = n(df$waiting))\n",
    "head(arrange(waiting_counts, desc(waiting_counts$count)))"
   ]
  },
  {
   "cell_type": "markdown",
   "metadata": {},
   "source": [
    "#### Operating on Columns\n",
    "SparkR also provides a number of functions that can directly applied to columns for data processing and during aggregation. The example below shows the use of basic arithmetic functions."
   ]
  },
  {
   "cell_type": "code",
   "execution_count": null,
   "metadata": {
    "collapsed": false
   },
   "outputs": [],
   "source": [
    "# Convert waiting time from hours to seconds.\n",
    "# Note that we can assign this to a new column in the same SparkDataFrame\n",
    "df$waiting_secs <- df$waiting * 60\n",
    "head(df)"
   ]
  },
  {
   "cell_type": "markdown",
   "metadata": {},
   "source": [
    "#### Applying User-Defined Function\n",
    "In SparkR, we support several kinds of User-Defined Functions:\n",
    "\n",
    "Run a given function on a large dataset using dapply or dapplyCollect\n",
    "\n",
    "##### dapply\n",
    "\n",
    "\n",
    "Apply a function to each partition of a SparkDataFrame. The function to be applied to each partition of the SparkDataFrame and should have only one parameter, to which a data.frame corresponds to each partition will be passed. The output of function should be a data.frame. Schema specifies the row format of the resulting a SparkDataFrame. It must match to data types of returned value."
   ]
  },
  {
   "cell_type": "code",
   "execution_count": null,
   "metadata": {
    "collapsed": false
   },
   "outputs": [],
   "source": [
    "# reload the dataframe\n",
    "df <- as.DataFrame(faithful)\n",
    "\n",
    "# Convert waiting time from hours to seconds.\n",
    "# Note that we can apply UDF to DataFrame.\n",
    "schema <- structType(structField(\"eruptions\", \"double\"), structField(\"waiting\", \"double\"),\n",
    "                     structField(\"waiting_secs\", \"double\"))\n",
    "df1 <- dapply(df, function(x) { x <- cbind(x, x$waiting * 60) }, schema)\n",
    "head(collect(df1))"
   ]
  },
  {
   "cell_type": "markdown",
   "metadata": {},
   "source": [
    "##### dapplyCollect\n",
    "\n",
    "Like dapply, apply a function to each partition of a SparkDataFrame and collect the result back. The output of function should be a data.frame. But, Schema is not required to be passed. Note that dapplyCollect can fail if the output of UDF run on all the partition cannot be pulled to the driver and fit in driver memory."
   ]
  },
  {
   "cell_type": "code",
   "execution_count": null,
   "metadata": {
    "collapsed": false
   },
   "outputs": [],
   "source": [
    "# Convert waiting time from hours to seconds.\n",
    "# Note that we can apply UDF to DataFrame and return a R's data.frame\n",
    "ldf <- dapplyCollect(\n",
    "         df,\n",
    "         function(x) {\n",
    "           x <- cbind(x, \"waiting_secs\" = x$waiting * 60)\n",
    "         })\n",
    "head(ldf, 3)"
   ]
  },
  {
   "cell_type": "markdown",
   "metadata": {},
   "source": [
    "#### Run a given function on a large dataset grouping by input column(s) and using gapply or gapplyCollect\n",
    "\n",
    "##### gapply\n",
    "\n",
    "Apply a function to each group of a SparkDataFrame. The function is to be applied to each group of the SparkDataFrame and should have only two parameters: grouping key and R data.frame corresponding to that key. The groups are chosen from SparkDataFrames column(s). The output of function should be a data.frame. Schema specifies the row format of the resulting SparkDataFrame. It must represent R function’s output schema on the basis of Spark data types. The column names of the returned data.frame are set by user. Below is the data type mapping between R and Spark."
   ]
  },
  {
   "cell_type": "code",
   "execution_count": null,
   "metadata": {
    "collapsed": false
   },
   "outputs": [],
   "source": [
    "# Determine six waiting times with the largest eruption time in minutes.\n",
    "schema <- structType(structField(\"waiting\", \"double\"), structField(\"max_eruption\", \"double\"))\n",
    "result <- gapply(\n",
    "    df,\n",
    "    \"waiting\",\n",
    "    function(key, x) {\n",
    "        y <- data.frame(key, max(x$eruptions))\n",
    "    },\n",
    "    schema)\n",
    "head(collect(arrange(result, \"max_eruption\", decreasing = TRUE)))"
   ]
  },
  {
   "cell_type": "markdown",
   "metadata": {},
   "source": [
    "##### gapplyCollect\n",
    "\n",
    "Like gapply, applies a function to each partition of a SparkDataFrame and collect the result back to R data.frame. The output of the function should be a data.frame. But, the schema is not required to be passed. Note that gapplyCollect can fail if the output of UDF run on all the partition cannot be pulled to the driver and fit in driver memory.\n",
    "\n"
   ]
  },
  {
   "cell_type": "code",
   "execution_count": null,
   "metadata": {
    "collapsed": false
   },
   "outputs": [],
   "source": [
    "# Determine six waiting times with the largest eruption time in minutes.\n",
    "result <- gapplyCollect(\n",
    "    df,\n",
    "    \"waiting\",\n",
    "    function(key, x) {\n",
    "        y <- data.frame(key, max(x$eruptions))\n",
    "        colnames(y) <- c(\"waiting\", \"max_eruption\")\n",
    "        y\n",
    "    })\n",
    "head(result[order(result$max_eruption, decreasing = TRUE), ])"
   ]
  },
  {
   "cell_type": "markdown",
   "metadata": {},
   "source": [
    "#### Run local R functions distributed using spark.lapply\n",
    "\n",
    "##### spark.lapply\n",
    "\n",
    "Similar to lapply in native R, spark.lapply runs a function over a list of elements and distributes the computations with Spark. Applies a function in a manner that is similar to doParallel or lapply to elements of a list. The results of all the computations should fit in a single machine. If that is not the case they can do something like df <- createDataFrame(list) and then use dapply"
   ]
  },
  {
   "cell_type": "code",
   "execution_count": null,
   "metadata": {
    "collapsed": false
   },
   "outputs": [],
   "source": [
    "# Perform distributed training of multiple models with spark.lapply. Here, we pass\n",
    "# a read-only list of arguments which specifies family the generalized linear model should be.\n",
    "families <- c(\"gaussian\", \"poisson\")\n",
    "train <- function(family) {\n",
    "  model <- glm(Sepal.Length ~ Sepal.Width + Species, iris, family = family)\n",
    "  summary(model)\n",
    "}\n",
    "# Return a list of model's summaries\n",
    "model.summaries <- spark.lapply(families, train)\n",
    "\n",
    "# Print the summary of each model\n",
    "print(model.summaries)"
   ]
  },
  {
   "cell_type": "markdown",
   "metadata": {},
   "source": [
    "### Running SQL Queries from SparkR\n",
    "A SparkDataFrame can also be registered as a temporary view in Spark SQL and that allows you to run SQL queries over its data. The sql function enables applications to run SQL queries programmatically and returns the result as a SparkDataFrame."
   ]
  },
  {
   "cell_type": "code",
   "execution_count": null,
   "metadata": {
    "collapsed": false
   },
   "outputs": [],
   "source": [
    "# First let's write a json file locally\n",
    "fileConn<-file(\"people.json\")\n",
    "writeLines('{\"name\":\"Michael\"}\\n{\"name\":\"Andy\", \"age\":30}\\n{\"name\":\"Justin\", \"age\":19}', fileConn)\n",
    "close(fileConn)"
   ]
  },
  {
   "cell_type": "code",
   "execution_count": null,
   "metadata": {
    "collapsed": false
   },
   "outputs": [],
   "source": [
    "# Load a JSON file\n",
    "people <- read.df(\"./people.json\", \"json\")\n",
    "\n",
    "# Register this SparkDataFrame as a temporary view.\n",
    "createOrReplaceTempView(people, \"people\")\n",
    "\n",
    "# SQL statements can be run by using the sql method\n",
    "teenagers <- sql(\"SELECT name FROM people WHERE age >= 13 AND age <= 19\")\n",
    "head(teenagers)"
   ]
  },
  {
   "cell_type": "markdown",
   "metadata": {
    "collapsed": true
   },
   "source": [
    "## Machine Learning\n",
    "SparkR supports the following machine learning algorithms currently: Generalized Linear Model, Accelerated Failure Time (AFT) Survival Regression Model, Naive Bayes Model and KMeans Model. Under the hood, SparkR uses MLlib to train the model. Users can call summary to print a summary of the fitted model, predict to make predictions on new data, and write.ml/read.ml to save/load fitted models. SparkR supports a subset of the available R formula operators for model fitting, including ‘~’, ‘.’, ‘:’, ‘+’, and ‘-‘.\n",
    "\n",
    "### Algorithms\n",
    "#### Generalized Linear Model\n",
    "spark.glm() or glm() fits generalized linear model against a Spark DataFrame. Currently “gaussian”, “binomial”, “poisson” and “gamma” families are supported."
   ]
  },
  {
   "cell_type": "code",
   "execution_count": null,
   "metadata": {
    "collapsed": false
   },
   "outputs": [],
   "source": [
    "irisDF <- suppressWarnings(createDataFrame(iris))\n",
    "# Fit a generalized linear model of family \"gaussian\" with spark.glm\n",
    "gaussianDF <- irisDF\n",
    "gaussianTestDF <- irisDF\n",
    "gaussianGLM <- spark.glm(gaussianDF, Sepal_Length ~ Sepal_Width + Species, family = \"gaussian\")\n",
    "\n",
    "# Model summary\n",
    "summary(gaussianGLM)\n",
    "\n",
    "# Prediction\n",
    "gaussianPredictions <- predict(gaussianGLM, gaussianTestDF)\n",
    "showDF(gaussianPredictions)\n",
    "\n",
    "# Fit a generalized linear model with glm (R-compliant)\n",
    "gaussianGLM2 <- glm(Sepal_Length ~ Sepal_Width + Species, gaussianDF, family = \"gaussian\")\n",
    "summary(gaussianGLM2)\n",
    "\n",
    "# Fit a generalized linear model of family \"binomial\" with spark.glm\n",
    "binomialDF <- filter(irisDF, irisDF$Species != \"setosa\")\n",
    "binomialTestDF <- binomialDF\n",
    "binomialGLM <- spark.glm(binomialDF, Species ~ Sepal_Length + Sepal_Width, family = \"binomial\")\n",
    "\n",
    "# Model summary\n",
    "summary(binomialGLM)\n",
    "\n",
    "# Prediction\n",
    "binomialPredictions <- predict(binomialGLM, binomialTestDF)\n",
    "showDF(binomialPredictions)"
   ]
  },
  {
   "cell_type": "markdown",
   "metadata": {},
   "source": [
    "##### Accelerated Failure Time (AFT) Survival Regression Model\n",
    "spark.survreg() fits an accelerated failure time (AFT) survival regression model on a SparkDataFrame. Note that the formula of spark.survreg() does not support operator ‘.’ currently."
   ]
  },
  {
   "cell_type": "code",
   "execution_count": null,
   "metadata": {
    "collapsed": false
   },
   "outputs": [],
   "source": [
    "# Use the ovarian dataset available in R survival package\n",
    "library(survival)\n",
    "\n",
    "# Fit an accelerated failure time (AFT) survival regression model with spark.survreg\n",
    "ovarianDF <- suppressWarnings(createDataFrame(ovarian))\n",
    "aftDF <- ovarianDF\n",
    "aftTestDF <- ovarianDF\n",
    "aftModel <- spark.survreg(aftDF, Surv(futime, fustat) ~ ecog_ps + rx)\n",
    "\n",
    "# Model summary\n",
    "summary(aftModel)\n",
    "\n",
    "# Prediction\n",
    "aftPredictions <- predict(aftModel, aftTestDF)\n",
    "showDF(aftPredictions)"
   ]
  },
  {
   "cell_type": "markdown",
   "metadata": {},
   "source": [
    "##### Naive Bayes Model\n",
    "spark.naiveBayes() fits a Bernoulli naive Bayes model against a SparkDataFrame. Only categorical data is supported."
   ]
  },
  {
   "cell_type": "code",
   "execution_count": null,
   "metadata": {
    "collapsed": false
   },
   "outputs": [],
   "source": [
    "# Fit a Bernoulli naive Bayes model with spark.naiveBayes\n",
    "titanic <- as.data.frame(Titanic)\n",
    "titanicDF <- createDataFrame(titanic[titanic$Freq > 0, -5])\n",
    "nbDF <- titanicDF\n",
    "nbTestDF <- titanicDF\n",
    "nbModel <- spark.naiveBayes(nbDF, Survived ~ Class + Sex + Age)\n",
    "\n",
    "# Model summary\n",
    "summary(nbModel)\n",
    "\n",
    "# Prediction\n",
    "nbPredictions <- predict(nbModel, nbTestDF)\n",
    "showDF(nbPredictions)"
   ]
  },
  {
   "cell_type": "markdown",
   "metadata": {},
   "source": [
    "##### KMeans Model\n",
    "spark.kmeans() fits a k-means clustering model against a Spark DataFrame, similarly to R’s kmeans()."
   ]
  },
  {
   "cell_type": "code",
   "execution_count": null,
   "metadata": {
    "collapsed": false
   },
   "outputs": [],
   "source": [
    "# Fit a k-means model with spark.kmeans\n",
    "irisDF <- suppressWarnings(createDataFrame(iris))\n",
    "kmeansDF <- irisDF\n",
    "kmeansTestDF <- irisDF\n",
    "kmeansModel <- spark.kmeans(kmeansDF, ~ Sepal_Length + Sepal_Width + Petal_Length + Petal_Width,\n",
    "                            k = 3)\n",
    "\n",
    "# Model summary\n",
    "summary(kmeansModel)\n",
    "\n",
    "# Get fitted result from the k-means model\n",
    "showDF(fitted(kmeansModel))\n",
    "\n",
    "# Prediction\n",
    "kmeansPredictions <- predict(kmeansModel, kmeansTestDF)\n",
    "showDF(kmeansPredictions)"
   ]
  },
  {
   "cell_type": "markdown",
   "metadata": {},
   "source": [
    "#### Model persistence\n",
    "The following example shows how to save/load a MLlib model by SparkR."
   ]
  },
  {
   "cell_type": "code",
   "execution_count": null,
   "metadata": {
    "collapsed": false
   },
   "outputs": [],
   "source": [
    "irisDF <- suppressWarnings(createDataFrame(iris))\n",
    "# Fit a generalized linear model of family \"gaussian\" with spark.glm\n",
    "gaussianDF <- irisDF\n",
    "gaussianTestDF <- irisDF\n",
    "gaussianGLM <- spark.glm(gaussianDF, Sepal_Length ~ Sepal_Width + Species, family = \"gaussian\")\n",
    "\n",
    "# Save and then load a fitted MLlib model\n",
    "modelPath <- tempfile(pattern = \"ml\", fileext = \".tmp\")\n",
    "write.ml(gaussianGLM, modelPath)\n",
    "gaussianGLM2 <- read.ml(modelPath)\n",
    "\n",
    "# Check model summary\n",
    "summary(gaussianGLM2)\n",
    "\n",
    "# Check model prediction\n",
    "gaussianPredictions <- predict(gaussianGLM2, gaussianTestDF)\n",
    "showDF(gaussianPredictions)\n",
    "\n",
    "unlink(modelPath)\n"
   ]
  },
  {
   "cell_type": "code",
   "execution_count": null,
   "metadata": {
    "collapsed": true
   },
   "outputs": [],
   "source": []
  }
 ],
 "metadata": {
  "kernelspec": {
   "display_name": "R with Spark 2.0",
   "language": "R",
   "name": "r-spark20"
  }
 },
 "nbformat": 4,
 "nbformat_minor": 0
}